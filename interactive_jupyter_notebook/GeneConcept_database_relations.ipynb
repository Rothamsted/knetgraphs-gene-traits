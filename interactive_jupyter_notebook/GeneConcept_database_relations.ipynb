{
 "cells": [
  {
   "cell_type": "markdown",
   "id": "a3ab9c00",
   "metadata": {},
   "source": [
    "# Get all Gene-Concept relations from KnetMiner database for a given taxonomy ID\n",
    "This Jupyter Notebook uses KnetMiner SPARQL endpoint to get for each species the genes and their related concept (such as traits and bioproccess). The resulting tables can be downloaded as CSV files.\n",
    "\n",
    "### Instructions:\n",
    "Import the libraries, then run the cells in the section \"Get the gene-concept database CSV file for the chosen species\" for the interactive interface."
   ]
  },
  {
   "cell_type": "markdown",
   "id": "95749c66",
   "metadata": {},
   "source": [
    "## Import the libraries used in this script\n",
    "### Please note: Always run the cell below once you open the file."
   ]
  },
  {
   "cell_type": "code",
   "execution_count": 1,
   "id": "d450aa69",
   "metadata": {},
   "outputs": [],
   "source": [
    "from enrichment_analysis_functions import *\n",
    "\n",
    "# Import ipywidgets for interactive interface\n",
    "import ipywidgets as widgets\n",
    "from ipywidgets import interact, interact_manual"
   ]
  },
  {
   "cell_type": "markdown",
   "id": "e6bc14cc",
   "metadata": {},
   "source": [
    "## The database files can be obtained for the following species:"
   ]
  },
  {
   "cell_type": "code",
   "execution_count": 2,
   "id": "4720462e",
   "metadata": {},
   "outputs": [
    {
     "data": {
      "text/html": [
       "<div>\n",
       "<style scoped>\n",
       "    .dataframe tbody tr th:only-of-type {\n",
       "        vertical-align: middle;\n",
       "    }\n",
       "\n",
       "    .dataframe tbody tr th {\n",
       "        vertical-align: top;\n",
       "    }\n",
       "\n",
       "    .dataframe thead th {\n",
       "        text-align: right;\n",
       "    }\n",
       "</style>\n",
       "<table border=\"1\" class=\"dataframe\">\n",
       "  <thead>\n",
       "    <tr style=\"text-align: right;\">\n",
       "      <th></th>\n",
       "      <th>Tax IDs</th>\n",
       "      <th>Tax Names</th>\n",
       "    </tr>\n",
       "  </thead>\n",
       "  <tbody>\n",
       "    <tr>\n",
       "      <th>0</th>\n",
       "      <td>4565</td>\n",
       "      <td>Triticum aestivum (wheat)</td>\n",
       "    </tr>\n",
       "    <tr>\n",
       "      <th>1</th>\n",
       "      <td>3702</td>\n",
       "      <td>Arabidopsis thaliana (thale cress)</td>\n",
       "    </tr>\n",
       "    <tr>\n",
       "      <th>2</th>\n",
       "      <td>4530</td>\n",
       "      <td>Oryza sativa (rice)</td>\n",
       "    </tr>\n",
       "  </tbody>\n",
       "</table>\n",
       "</div>"
      ],
      "text/plain": [
       "  Tax IDs                           Tax Names\n",
       "0    4565           Triticum aestivum (wheat)\n",
       "1    3702  Arabidopsis thaliana (thale cress)\n",
       "2    4530                 Oryza sativa (rice)"
      ]
     },
     "execution_count": 2,
     "metadata": {},
     "output_type": "execute_result"
    }
   ],
   "source": [
    "df_taxID()[['Tax IDs', 'Tax Names']]"
   ]
  },
  {
   "cell_type": "markdown",
   "id": "831be19d",
   "metadata": {},
   "source": [
    "## Get the gene-concept database CSV file for the chosen species\n",
    "### Steps:\n",
    "1. Run the first cell to get the check boxes for selection of species and concepts.\n",
    "2. Then run the second cell to get the CSV files for the selected species and concepts.\n",
    "\n",
    "### Please note:\n",
    "1. You only need to run the first cell once. If you you want to change your choices, select the boxes then run the second cell.\n",
    "2. Getting the download links for the CSV files takes a couple of minutes to fetch the data from the database."
   ]
  },
  {
   "cell_type": "code",
   "execution_count": null,
   "id": "621215f1",
   "metadata": {},
   "outputs": [],
   "source": [
    "# create dataframe for Tax IDs and their names\n",
    "dframe_taxID = df_taxID()\n",
    "# create list of concepts\n",
    "concepts = get_concepts()\n",
    "\n",
    "# display checkboxes for choosing species and concepts\n",
    "print(\"Check the boxes for the desired species or 'All Species' :\")\n",
    "checkboxes1 = display_checkboxes(data = ['All Species'] + list(dframe_taxID['Tax Names']))\n",
    "\n",
    "print(\"Check the boxes for the desired concepts or 'All Concepts' :\")\n",
    "checkboxes2 = display_checkboxes(data = ['All Concepts'] + concepts)"
   ]
  },
  {
   "cell_type": "code",
   "execution_count": null,
   "id": "3e03ecf1",
   "metadata": {},
   "outputs": [],
   "source": [
    "# 1. Get the selected choices for species and concepts\n",
    "selected_species = get_checkboxes_selection(checkboxes1)\n",
    "selected_concepts = get_checkboxes_selection(checkboxes2)\n",
    "\n",
    "# 2. Check if the user didn't select any species or concept\n",
    "if len(selected_species) == 0 or len(selected_concepts) == 0:\n",
    "    print(\"You have to select species and concept!\")\n",
    "\n",
    "else:\n",
    "    # 3. If the user selected 'All Species' or 'All Concepts', the selected lists will be modified to the names of all species or concepts\n",
    "    selected_species = list(dframe_taxID['Tax Names'])  if selected_species[0] == 'All Species' else selected_species\n",
    "    selected_concepts = concepts if selected_concepts[0] == 'All Concepts' else selected_concepts\n",
    "\n",
    "    # 4. Iterate through each selected species and get the taxID and databse url\n",
    "    for species in selected_species:\n",
    "        taxID = dframe_taxID[dframe_taxID['Tax Names'] == species]['Tax IDs'].item()\n",
    "        database = dframe_taxID[dframe_taxID['Tax Names'] == species]['Database URL'].item()\n",
    "\n",
    "        # 5. Then iterate through each selected concept, and create the csv file for that concept and species\n",
    "        for concept in selected_concepts:\n",
    "            print(f'Loading results for {concept} in {species}... Please wait.')\n",
    "            get_database_csv(taxID, database, concept) # get csv download link"
   ]
  }
 ],
 "metadata": {
  "kernelspec": {
   "display_name": "Python 3.9.12",
   "language": "python",
   "name": "python3"
  },
  "language_info": {
   "codemirror_mode": {
    "name": "ipython",
    "version": 3
   },
   "file_extension": ".py",
   "mimetype": "text/x-python",
   "name": "python",
   "nbconvert_exporter": "python",
   "pygments_lexer": "ipython3",
   "version": "3.9.12"
  },
  "vscode": {
   "interpreter": {
    "hash": "b02c2cf1482603673c1bcf956135226e926d32ba11e9490db4747076fbd4905b"
   }
  }
 },
 "nbformat": 4,
 "nbformat_minor": 5
}
