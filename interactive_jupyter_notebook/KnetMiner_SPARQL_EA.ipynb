{
 "cells": [
  {
   "cell_type": "markdown",
   "id": "359d9fc4",
   "metadata": {},
   "source": [
    "# Enrichment Analysis using KnetMiner SPARQL endpoint with Jupyter\n",
    "\n",
    "This Jupyter Notebook uses KnetMiner SPARQL endpoint to extract gene expression data from the RDF database and perfrom enrichment analysis."
   ]
  },
  {
   "cell_type": "markdown",
   "id": "ea8af449",
   "metadata": {},
   "source": [
    "## Choose the tax ID, concept and study or enter list of genes\n",
    "\n",
    "### Steps:\n",
    "1. Run the first cell to get the radio buttons for selection of species, concept and study or list.\n",
    "2. Then run the second cell to get the results for the selected species and concept.\n",
    "\n",
    "Note: You only need to run the first cell once. If you you want to change your choices, make the selections then run the second cell.\n",
    "\n",
    "### The resuts generated are:\n",
    "1. The gene-concept table containing the genes list and their related ontology terms and evidence\n",
    "2. The enrichment table\n",
    "\n",
    "### Please note:\n",
    "1. The only tax IDs that will generate a table of studies are:\n",
    "    - 4565: Triticum aestivum (wheat)\n",
    "    - 3702: Arabidopsis thaliana\n",
    "\n",
    "\n",
    "2. You can filter the gene-concept table using the 2 cells at the bottom by either:\n",
    "    - choosing the ontology term to display the related genes\n",
    "    - or choosing a gene to display the related ontology terms"
   ]
  },
  {
   "cell_type": "code",
   "execution_count": null,
   "id": "99d0bb4d",
   "metadata": {},
   "outputs": [],
   "source": [
    "# Import the libraries and functions\n",
    "from enrichment_analysis_functions import *\n",
    "\n",
    "# display full dataframe pandas\n",
    "pd.set_option('display.max_rows', None)\n",
    "\n",
    "# create dataframe for Tax IDs and their names\n",
    "dframe_taxID = df_taxID()\n",
    "# create list of concepts\n",
    "concepts = get_concepts()\n",
    "\n",
    "# display radio buttons for choosing species and concept\n",
    "print(\"Select the desired species:\")\n",
    "radiobuttons1 = display_radiobuttons(data = list(dframe_taxID['Tax Names']))\n",
    "\n",
    "print(\"Select the desired concept:\")\n",
    "radiobuttons2 = display_radiobuttons(data = concepts)\n",
    "\n",
    "print(\"Do you want to get the list of genes from a study or use your own list?\")\n",
    "radiobuttons3 = display_radiobuttons(data = [\"Study\", \"List of Genes\"])"
   ]
  },
  {
   "cell_type": "code",
   "execution_count": null,
   "id": "b93b986f",
   "metadata": {},
   "outputs": [],
   "source": [
    "# get the slections\n",
    "species = radiobuttons1.get_interact_value()\n",
    "concept = radiobuttons2.get_interact_value()\n",
    "studyOrList = radiobuttons3.get_interact_value()\n",
    "\n",
    "# get the tax ID \n",
    "taxID = dframe_taxID[dframe_taxID['Tax Names'] == species]['Tax IDs'].item()\n",
    "print(f'Tax ID for {species} is: {taxID}')\n",
    "\n",
    "# get total number of genes in the database for the selected tax ID\n",
    "total_db_genes = get_gene_count(taxID)\n",
    "print('Total Number of Genes = ' + str(total_db_genes))\n",
    "\n",
    "# import csv for genes and related concept (for the selected tax ID)\n",
    "dframe_GeneTrait = pd.read_csv (f'Gene{concept}Table_{taxID}.csv',\n",
    "                                usecols= [\"Gene Accession\", \"Gene Name\", \"Ontology Term\",\n",
    "                                    \"Preferred Name\", \"Evidence\", \"Network URL\"])\n",
    "\n",
    "\n",
    "# create global variables for @interact_manual\n",
    "total_DEXgenes = set()\n",
    "dframe_GeneTrait_filtered = pd.DataFrame()\n",
    "df_Ftest_sorted = pd.DataFrame()\n",
    "\n",
    "\n",
    "if studyOrList == \"Study\":\n",
    "    print(\"\\nLoading studies ... Please wait.\")\n",
    "    \n",
    "    # get the dataframe of the studies and their accession numbers\n",
    "    dframe_study_list = get_study_list(taxID)\n",
    "    \n",
    "    if dframe_study_list.shape[0] != 0:\n",
    "        print(\"\\nChoose from the list of studies related to the chosen Tax ID:\")\n",
    "\n",
    "        @interact_manual\n",
    "        def get_study_list_for_triat(Study_Title = dframe_study_list['Study Title']):\n",
    "            global total_DEXgenes\n",
    "            global dframe_GeneTrait_filtered\n",
    "            global df_Ftest_sorted\n",
    "            \n",
    "            # get study accession number\n",
    "            studyAcc = dframe_study_list[dframe_study_list['Study Title'] == Study_Title]['Study Accession'].item()\n",
    "            print(\"Study Accession is: \" + studyAcc)\n",
    "                \n",
    "            # get unique set of genes\n",
    "            total_DEXgenes = get_study_DEXgenes(studyAcc)\n",
    "            \n",
    "            print(\"\\nLoading results ... Please wait.\")\n",
    "            # get final tables\n",
    "            dframe_GeneTrait_filtered, df_Ftest_sorted = get_df_Ftest_sorted(dframe_GeneTrait, total_DEXgenes, total_db_genes)\n",
    "\n",
    "    else:\n",
    "        print(\"\\nNo studies in the databse for the selected tax ID. Please provide your list of genes.\")\n",
    "    \n",
    "\n",
    "# if studyOrList == \"List of Genes\"    \n",
    "else:\n",
    "    print (\"\\nPlease paste the list of genes (separated by spaces).\")\n",
    "    \n",
    "    @interact_manual\n",
    "    def input_genes_list(genes = ''):\n",
    "        global total_DEXgenes\n",
    "        global dframe_GeneTrait_filtered\n",
    "        global df_Ftest_sorted\n",
    "        \n",
    "        # get user input genes as list\n",
    "        genes_list = genes.split()\n",
    "        # get unique set of genes\n",
    "        total_DEXgenes = set(genes_list)\n",
    "                        \n",
    "        print(\"\\n\" + str(len(total_DEXgenes)) + \" genes provided:\")\n",
    "        for g in genes_list:\n",
    "            print(g)\n",
    "        \n",
    "        print(\"\\nLoading results ... Please wait.\")\n",
    "        # get final tables\n",
    "        dframe_GeneTrait_filtered, df_Ftest_sorted = get_df_Ftest_sorted(dframe_GeneTrait, total_DEXgenes, total_db_genes)"
   ]
  },
  {
   "cell_type": "markdown",
   "id": "929bc96e",
   "metadata": {},
   "source": [
    "## View whole tables section\n",
    "If you want to display the whole tables in the notebook, run each of the two cells below."
   ]
  },
  {
   "cell_type": "markdown",
   "id": "2d79c5c7",
   "metadata": {},
   "source": [
    "Gene-concept Table:"
   ]
  },
  {
   "cell_type": "code",
   "execution_count": null,
   "id": "3a08b914",
   "metadata": {},
   "outputs": [],
   "source": [
    "# copy dataframe to avoid editing and changing data type of the original\n",
    "df_GeneTrait_filtered = dframe_GeneTrait_filtered[:].copy()\n",
    "\n",
    "# display gene-trait table by rendering the HTML to clickable\n",
    "s = \"View Network\"\n",
    "df_GeneTrait_filtered['Network URL'] = df_GeneTrait_filtered['Network URL'].apply(lambda x: f'<a href=\"{x}\">{s}</a>')\n",
    "\n",
    "HTML(df_GeneTrait_filtered.to_html(render_links=True, escape=False))"
   ]
  },
  {
   "cell_type": "markdown",
   "id": "264c372b",
   "metadata": {},
   "source": [
    "Enrichment Table:"
   ]
  },
  {
   "cell_type": "code",
   "execution_count": null,
   "id": "9bbcfc78",
   "metadata": {},
   "outputs": [],
   "source": [
    "df_Ftest_sorted"
   ]
  },
  {
   "cell_type": "markdown",
   "id": "def078f6",
   "metadata": {},
   "source": [
    "## The table below shows the meaning of the evidence codes\n",
    "- A homologous gene (or homolog) is a gene inherited in two species by a common ancestor.\n",
    "- Genetic interaction networks represent the functional interactions between pairs of genes.\n"
   ]
  },
  {
   "cell_type": "code",
   "execution_count": 3,
   "id": "7b7246eb",
   "metadata": {},
   "outputs": [
    {
     "data": {
      "text/html": [
       "<div>\n",
       "<style scoped>\n",
       "    .dataframe tbody tr th:only-of-type {\n",
       "        vertical-align: middle;\n",
       "    }\n",
       "\n",
       "    .dataframe tbody tr th {\n",
       "        vertical-align: top;\n",
       "    }\n",
       "\n",
       "    .dataframe thead th {\n",
       "        text-align: right;\n",
       "    }\n",
       "</style>\n",
       "<table border=\"1\" class=\"dataframe\">\n",
       "  <thead>\n",
       "    <tr style=\"text-align: right;\">\n",
       "      <th></th>\n",
       "      <th>Evidence Code</th>\n",
       "      <th>Evidence Type</th>\n",
       "      <th>Homology</th>\n",
       "      <th>Interaction</th>\n",
       "    </tr>\n",
       "  </thead>\n",
       "  <tbody>\n",
       "    <tr>\n",
       "      <th>0</th>\n",
       "      <td>TM_0-0</td>\n",
       "      <td>Text Mining (TM)</td>\n",
       "      <td>0</td>\n",
       "      <td>0</td>\n",
       "    </tr>\n",
       "    <tr>\n",
       "      <th>1</th>\n",
       "      <td>TM_0-1</td>\n",
       "      <td>Text Mining</td>\n",
       "      <td>0</td>\n",
       "      <td>1</td>\n",
       "    </tr>\n",
       "    <tr>\n",
       "      <th>2</th>\n",
       "      <td>TM_1-0</td>\n",
       "      <td>Text Mining</td>\n",
       "      <td>1</td>\n",
       "      <td>0</td>\n",
       "    </tr>\n",
       "    <tr>\n",
       "      <th>3</th>\n",
       "      <td>TM_1-1</td>\n",
       "      <td>Text Mining</td>\n",
       "      <td>1</td>\n",
       "      <td>1</td>\n",
       "    </tr>\n",
       "    <tr>\n",
       "      <th>4</th>\n",
       "      <td>GWAS_0-0</td>\n",
       "      <td>Genetic Study (GWAS)</td>\n",
       "      <td>0</td>\n",
       "      <td>0</td>\n",
       "    </tr>\n",
       "    <tr>\n",
       "      <th>5</th>\n",
       "      <td>GWAS_0-1</td>\n",
       "      <td>Genetic Study</td>\n",
       "      <td>0</td>\n",
       "      <td>1</td>\n",
       "    </tr>\n",
       "    <tr>\n",
       "      <th>6</th>\n",
       "      <td>GWAS_1-0</td>\n",
       "      <td>Genetic Study</td>\n",
       "      <td>1</td>\n",
       "      <td>0</td>\n",
       "    </tr>\n",
       "    <tr>\n",
       "      <th>7</th>\n",
       "      <td>GWAS_1-1</td>\n",
       "      <td>Genetic Study</td>\n",
       "      <td>1</td>\n",
       "      <td>1</td>\n",
       "    </tr>\n",
       "  </tbody>\n",
       "</table>\n",
       "</div>"
      ],
      "text/plain": [
       "  Evidence Code         Evidence Type  Homology  Interaction\n",
       "0        TM_0-0      Text Mining (TM)         0            0\n",
       "1        TM_0-1           Text Mining         0            1\n",
       "2        TM_1-0           Text Mining         1            0\n",
       "3        TM_1-1           Text Mining         1            1\n",
       "4      GWAS_0-0  Genetic Study (GWAS)         0            0\n",
       "5      GWAS_0-1         Genetic Study         0            1\n",
       "6      GWAS_1-0         Genetic Study         1            0\n",
       "7      GWAS_1-1         Genetic Study         1            1"
      ]
     },
     "execution_count": 3,
     "metadata": {},
     "output_type": "execute_result"
    }
   ],
   "source": [
    "df_evidence()"
   ]
  },
  {
   "cell_type": "markdown",
   "id": "382f3251",
   "metadata": {},
   "source": [
    "## Choose a ontology term to display related genes"
   ]
  },
  {
   "cell_type": "code",
   "execution_count": null,
   "id": "f15021c3",
   "metadata": {},
   "outputs": [],
   "source": [
    "@interact\n",
    "def get_gene_list_for_triat(Ontology = sorted(df_Ftest_sorted['Preferred Name'].unique())):\n",
    "    \n",
    "    print(\" Ontology Term is: \" +\n",
    "          str(df_Ftest_sorted[df_Ftest_sorted['Preferred Name'] == Ontology]['Ontology Term'].item()))\n",
    "    \n",
    "    print(\" Adjusted p-value is: \" +\n",
    "          str(df_Ftest_sorted[df_Ftest_sorted['Preferred Name'] == Ontology]['adj p-value'].item()))\n",
    "    \n",
    "    df = dframe_GeneTrait_filtered.loc[dframe_GeneTrait_filtered['Preferred Name'] == Ontology]\n",
    "    df = df[[\"Gene Accession\", \"Gene Name\", \"Evidence\", \"Network URL\"]]\n",
    "    df = df.reset_index(drop=True)\n",
    "    \n",
    "    s = \"View Network\"\n",
    "    df['Network URL'] = df['Network URL'].apply(lambda x: f'<a href=\"{x}\">{s}</a>')\n",
    "    \n",
    "    print(\"\\n Total number of related unique genes from \\n user/study list of genes is: \" +\n",
    "          str(df_Ftest_sorted[df_Ftest_sorted['Preferred Name'] == Ontology]['User/Study Genes'].item()))  \n",
    "\n",
    "    return HTML(df.to_html(render_links=True, escape=False))"
   ]
  },
  {
   "cell_type": "markdown",
   "id": "1280a206",
   "metadata": {},
   "source": [
    "## Choose a gene to display related ontology terms\n",
    "\n",
    "### Please Note:\n",
    "A gene name can have multiple accession numbers, which will be displayed in the printed table."
   ]
  },
  {
   "cell_type": "code",
   "execution_count": null,
   "id": "8a66d62d",
   "metadata": {},
   "outputs": [],
   "source": [
    "@interact\n",
    "def get_gene_list_for_triat(Gene_Name = sorted(dframe_GeneTrait_filtered['Gene Name'].unique())):\n",
    "    \n",
    "    df = dframe_GeneTrait_filtered.loc[dframe_GeneTrait_filtered['Gene Name'] == Gene_Name]\n",
    "    df = df[[\"Gene Accession\", \"Ontology Term\", \"Preferred Name\", \"Evidence\", \"Network URL\"]]\n",
    "    df = df.reset_index(drop=True)\n",
    "    \n",
    "    s = \"View Network\"\n",
    "    df['Network URL'] = df['Network URL'].apply(lambda x: f'<a href=\"{x}\">{s}</a>')\n",
    "    \n",
    "    print(\"\\n Total number of related unique ontology terms is: \" + str(len(df['Ontology Term'].unique())))\n",
    "    \n",
    "    return HTML(df.to_html(render_links=True, escape=False))"
   ]
  }
 ],
 "metadata": {
  "kernelspec": {
   "display_name": "Python 3.9.12 (conda)",
   "language": "python",
   "name": "python3"
  },
  "language_info": {
   "codemirror_mode": {
    "name": "ipython",
    "version": 3
   },
   "file_extension": ".py",
   "mimetype": "text/x-python",
   "name": "python",
   "nbconvert_exporter": "python",
   "pygments_lexer": "ipython3",
   "version": "3.9.12"
  },
  "vscode": {
   "interpreter": {
    "hash": "b02c2cf1482603673c1bcf956135226e926d32ba11e9490db4747076fbd4905b"
   }
  }
 },
 "nbformat": 4,
 "nbformat_minor": 5
}
