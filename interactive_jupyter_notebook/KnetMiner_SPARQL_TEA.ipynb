{
 "cells": [
  {
   "cell_type": "markdown",
   "id": "359d9fc4",
   "metadata": {},
   "source": [
    "# Enrichment Analysis using KnetMiner SPARQL endpoint with Jupyter"
   ]
  },
  {
   "cell_type": "markdown",
   "id": "760647fe",
   "metadata": {},
   "source": [
    "## Import the libraries used in this script."
   ]
  },
  {
   "cell_type": "code",
   "execution_count": 1,
   "id": "0ea0c921",
   "metadata": {},
   "outputs": [],
   "source": [
    "from enrichment_analysis_functions import *\n",
    "\n",
    "# Import ipywidgets for interactive interface\n",
    "import ipywidgets as widgets\n",
    "from ipywidgets import interact, interact_manual"
   ]
  },
  {
   "cell_type": "markdown",
   "id": "ea8af449",
   "metadata": {},
   "source": [
    "## Choose the tax ID, study (or list of genes), and get the trait enrichment table\n",
    "\n",
    "### Please note, for the list of studies:\n",
    "\n",
    "1. It take a couple of seconds to get the list of studies.\n",
    "2. The only tax IDs that will generate a table of studies are:\n",
    "    - 4565: Triticum aestivum (wheat)\n",
    "    - 3702: Arabidopsis thaliana"
   ]
  },
  {
   "cell_type": "code",
   "execution_count": 2,
   "id": "739698df",
   "metadata": {
    "scrolled": false
   },
   "outputs": [
    {
     "data": {
      "application/vnd.jupyter.widget-view+json": {
       "model_id": "a1d8cdf1b7d34e8da243107ae6af981e",
       "version_major": 2,
       "version_minor": 0
      },
      "text/plain": [
       "interactive(children=(Dropdown(description='Species', options=('Triticum aestivum (wheat)', 'Arabidopsis thali…"
      ]
     },
     "metadata": {},
     "output_type": "display_data"
    }
   ],
   "source": [
    "# display full dataframe pandas\n",
    "pd.set_option('display.max_rows', None)\n",
    "\n",
    "# create dataframe for Tax IDs and their names\n",
    "dframe_taxID = df_taxID()\n",
    "\n",
    "# create global variables\n",
    "taxID = ''\n",
    "total_db_genes = 0\n",
    "total_DEXgenes = set()\n",
    "dframe_GeneTrait = pd.DataFrame()\n",
    "dframe_GeneTrait_filtered = pd.DataFrame()\n",
    "df_Ftest_sorted = pd.DataFrame()\n",
    "\n",
    "# view the interactive interface\n",
    "@interact_manual\n",
    "def choose_taxid(Species = dframe_taxID['Tax Names']):\n",
    "    global taxID\n",
    "    global total_db_genes\n",
    "    global dframe_GeneTrait\n",
    "    \n",
    "    taxID = dframe_taxID[dframe_taxID['Tax Names'] == Species]['Tax IDs'].item()\n",
    "    print(\"Tax ID is: \" + taxID)\n",
    "    \n",
    "    # get total number of genes in the database for the selected tax ID\n",
    "    total_db_genes = get_gene_count(taxID)\n",
    "    \n",
    "    # import csv for genes and related traits (for the selected tax ID)\n",
    "    dframe_GeneTrait = pd.read_csv (f'GeneTraitTable_{taxID}.csv',\n",
    "                                usecols= [\"Gene Accession\", \"Gene Name\", \"Trait Accession\", \"Trait Name\",\n",
    "                                          \"Evidence\", \"Network URL\"])\n",
    "    \n",
    "    \n",
    "    print(\"\\nDo you want to get the list of genes from a study or use your own list?\")\n",
    "\n",
    "    @interact_manual\n",
    "    def choose_gene_list(Choice = [\"Study\", \"List of Genes\"]): \n",
    "            \n",
    "        if Choice == \"Study\":\n",
    "            dframe_study_list = get_study_list(taxID)\n",
    "            \n",
    "            if dframe_study_list.shape[0] != 0:\n",
    "                print(\"\\nChoose from the list of studies related to the chosen Tax ID:\")\n",
    "\n",
    "                @interact_manual\n",
    "                def get_study_list_for_triat(Study_Title = dframe_study_list['Study Title']):\n",
    "                    global total_DEXgenes\n",
    "                    global dframe_GeneTrait_filtered\n",
    "                    global df_Ftest_sorted\n",
    "                    \n",
    "                    # get study accession number\n",
    "                    studyAcc = dframe_study_list[dframe_study_list['Study Title'] == Study_Title]['Study Accession'].item()\n",
    "                    print(\" Study Accession is: \" + studyAcc)\n",
    "                    \n",
    "                    # get unique set of genes\n",
    "                    total_DEXgenes = get_study_DEXgenes(studyAcc)\n",
    "                    # get final tables\n",
    "                    dframe_GeneTrait_filtered, df_Ftest_sorted = get_df_Ftest_sorted(dframe_GeneTrait,\n",
    "                                                                                     total_DEXgenes, total_db_genes)\n",
    "\n",
    "            else:\n",
    "                print(\"No studies in the databse for the selected tax ID. Please provide your list of genes.\")\n",
    "            \n",
    "        \n",
    "        # if Choice == \"List of Genes\"    \n",
    "        else:\n",
    "            print (\"\\nPlease paste the list of genes (separated by spaces).\")\n",
    "            \n",
    "            @interact_manual\n",
    "            def input_genes_list(genes = ''):\n",
    "                global total_DEXgenes\n",
    "                global dframe_GeneTrait_filtered\n",
    "                global df_Ftest_sorted\n",
    "                \n",
    "                # get user input genes as list\n",
    "                genes_list = genes.split()\n",
    "                # get unique set of genes\n",
    "                total_DEXgenes = set(genes_list)\n",
    "                                \n",
    "                print(\"\\n\" + str(len(total_DEXgenes)) + \" genes provided:\")\n",
    "                for g in genes_list:\n",
    "                    print(g)\n",
    "                \n",
    "                # get final tables\n",
    "                dframe_GeneTrait_filtered, df_Ftest_sorted = get_df_Ftest_sorted(dframe_GeneTrait,\n",
    "                                                                                 total_DEXgenes, total_db_genes)\n",
    "                "
   ]
  },
  {
   "cell_type": "markdown",
   "id": "c0e9a42c",
   "metadata": {},
   "source": [
    "## Show the gene-trait table containing the genes list and their related traits and evidence\n",
    "\n",
    "###  Please note, you can filter the gene-trait table using the cells below by either:\n",
    "- choosing a trait to display the related genes\n",
    "- or choosing a gene to display the related traits"
   ]
  },
  {
   "cell_type": "code",
   "execution_count": 6,
   "id": "c1692e7a",
   "metadata": {},
   "outputs": [
    {
     "data": {
      "application/vnd.jupyter.widget-view+json": {
       "model_id": "4a87cbf1370542159feb59f19a195b91",
       "version_major": 2,
       "version_minor": 0
      },
      "text/plain": [
       "interactive(children=(Output(),), _dom_classes=('widget-interact',))"
      ]
     },
     "metadata": {},
     "output_type": "display_data"
    }
   ],
   "source": [
    "@interact\n",
    "def show_GeneTrait_table():\n",
    "    # copy dataframe to avoid editing and changing data type of the original\n",
    "    df_GeneTrait_filtered = dframe_GeneTrait_filtered[:].copy()\n",
    "\n",
    "    # display gene-trait table by rendering the HTML to clickable\n",
    "    s = \"View Network\"\n",
    "    df_GeneTrait_filtered['Network URL'] = df_GeneTrait_filtered['Network URL'].apply(lambda x: f'<a href=\"{x}\">{s}</a>')\n",
    "    \n",
    "    return HTML(df_GeneTrait_filtered.to_html(render_links=True, escape=False))"
   ]
  },
  {
   "cell_type": "markdown",
   "id": "def078f6",
   "metadata": {},
   "source": [
    "## The table below shows the meaning of the evidence codes\n",
    "- A homologous gene (or homolog) is a gene inherited in two species by a common ancestor.\n",
    "- Genetic interaction networks represent the functional interactions between pairs of genes.\n"
   ]
  },
  {
   "cell_type": "code",
   "execution_count": 12,
   "id": "7b7246eb",
   "metadata": {},
   "outputs": [
    {
     "data": {
      "text/html": [
       "<div>\n",
       "<style scoped>\n",
       "    .dataframe tbody tr th:only-of-type {\n",
       "        vertical-align: middle;\n",
       "    }\n",
       "\n",
       "    .dataframe tbody tr th {\n",
       "        vertical-align: top;\n",
       "    }\n",
       "\n",
       "    .dataframe thead th {\n",
       "        text-align: right;\n",
       "    }\n",
       "</style>\n",
       "<table border=\"1\" class=\"dataframe\">\n",
       "  <thead>\n",
       "    <tr style=\"text-align: right;\">\n",
       "      <th></th>\n",
       "      <th>Evidence Code</th>\n",
       "      <th>Evidence Type</th>\n",
       "      <th>Homology</th>\n",
       "      <th>Interaction</th>\n",
       "    </tr>\n",
       "  </thead>\n",
       "  <tbody>\n",
       "    <tr>\n",
       "      <th>0</th>\n",
       "      <td>TM_0-0</td>\n",
       "      <td>Text Mining (TM)</td>\n",
       "      <td>0</td>\n",
       "      <td>0</td>\n",
       "    </tr>\n",
       "    <tr>\n",
       "      <th>1</th>\n",
       "      <td>TM_0-1</td>\n",
       "      <td>Text Mining</td>\n",
       "      <td>0</td>\n",
       "      <td>1</td>\n",
       "    </tr>\n",
       "    <tr>\n",
       "      <th>2</th>\n",
       "      <td>TM_1-0</td>\n",
       "      <td>Text Mining</td>\n",
       "      <td>1</td>\n",
       "      <td>0</td>\n",
       "    </tr>\n",
       "    <tr>\n",
       "      <th>3</th>\n",
       "      <td>TM_1-1</td>\n",
       "      <td>Text Mining</td>\n",
       "      <td>1</td>\n",
       "      <td>1</td>\n",
       "    </tr>\n",
       "    <tr>\n",
       "      <th>4</th>\n",
       "      <td>GWAS_0-0</td>\n",
       "      <td>Genetic Study (GWAS)</td>\n",
       "      <td>0</td>\n",
       "      <td>0</td>\n",
       "    </tr>\n",
       "    <tr>\n",
       "      <th>5</th>\n",
       "      <td>GWAS_0-1</td>\n",
       "      <td>Genetic Study</td>\n",
       "      <td>0</td>\n",
       "      <td>1</td>\n",
       "    </tr>\n",
       "    <tr>\n",
       "      <th>6</th>\n",
       "      <td>GWAS_1-0</td>\n",
       "      <td>Genetic Study</td>\n",
       "      <td>1</td>\n",
       "      <td>0</td>\n",
       "    </tr>\n",
       "    <tr>\n",
       "      <th>7</th>\n",
       "      <td>GWAS_1-1</td>\n",
       "      <td>Genetic Study</td>\n",
       "      <td>1</td>\n",
       "      <td>1</td>\n",
       "    </tr>\n",
       "  </tbody>\n",
       "</table>\n",
       "</div>"
      ],
      "text/plain": [
       "  Evidence Code         Evidence Type  Homology  Interaction\n",
       "0        TM_0-0      Text Mining (TM)         0            0\n",
       "1        TM_0-1           Text Mining         0            1\n",
       "2        TM_1-0           Text Mining         1            0\n",
       "3        TM_1-1           Text Mining         1            1\n",
       "4      GWAS_0-0  Genetic Study (GWAS)         0            0\n",
       "5      GWAS_0-1         Genetic Study         0            1\n",
       "6      GWAS_1-0         Genetic Study         1            0\n",
       "7      GWAS_1-1         Genetic Study         1            1"
      ]
     },
     "execution_count": 12,
     "metadata": {},
     "output_type": "execute_result"
    }
   ],
   "source": [
    "df_evidence()"
   ]
  },
  {
   "cell_type": "markdown",
   "id": "382f3251",
   "metadata": {},
   "source": [
    "## Choose a trait to display related genes"
   ]
  },
  {
   "cell_type": "code",
   "execution_count": 7,
   "id": "d4b1e6ac",
   "metadata": {},
   "outputs": [
    {
     "data": {
      "application/vnd.jupyter.widget-view+json": {
       "model_id": "3fd3fe453c2b44cf985469f7f11c18e2",
       "version_major": 2,
       "version_minor": 0
      },
      "text/plain": [
       "interactive(children=(Dropdown(description='Trait_Name', options=('abscisic acid content', 'arsenic concentrat…"
      ]
     },
     "metadata": {},
     "output_type": "display_data"
    }
   ],
   "source": [
    "@interact\n",
    "def get_gene_list_for_triat(Trait_Name = sorted(df_Ftest_sorted['Trait Name'].unique())):\n",
    "    \n",
    "    print(\" Trait Accession is: \" +\n",
    "          str(df_Ftest_sorted[df_Ftest_sorted['Trait Name'] == Trait_Name]['Trait Accession'].item()))\n",
    "    \n",
    "    print(\" Adjusted p-value is: \" +\n",
    "          str(df_Ftest_sorted[df_Ftest_sorted['Trait Name'] == Trait_Name]['adj p-value'].item()))\n",
    "    \n",
    "    df = dframe_GeneTrait_filtered.loc[dframe_GeneTrait_filtered['Trait Name'] == Trait_Name]\n",
    "    df = df[[\"Gene Accession\", \"Gene Name\", \"Evidence\", \"Network URL\"]]\n",
    "    df = df.reset_index(drop=True)\n",
    "    \n",
    "    s = \"View Network\"\n",
    "    df['Network URL'] = df['Network URL'].apply(lambda x: f'<a href=\"{x}\">{s}</a>')\n",
    "    \n",
    "    print(\"\\n Total number of related unique genes from \\n user/study list of genes is: \" +\n",
    "          str(df_Ftest_sorted[df_Ftest_sorted['Trait Name'] == Trait_Name]['Number of related genes in user/study list'].item()))  \n",
    "\n",
    "    return HTML(df.to_html(render_links=True, escape=False))"
   ]
  },
  {
   "cell_type": "markdown",
   "id": "1280a206",
   "metadata": {},
   "source": [
    "## Choose a gene to display related traits"
   ]
  },
  {
   "cell_type": "code",
   "execution_count": 8,
   "id": "4e9cbd20",
   "metadata": {},
   "outputs": [
    {
     "data": {
      "application/vnd.jupyter.widget-view+json": {
       "model_id": "32af8ce1b5444dea8c33351165a60c8b",
       "version_major": 2,
       "version_minor": 0
      },
      "text/plain": [
       "interactive(children=(Dropdown(description='Gene_Name', options=('CCD1', 'E1-BETA-2', 'HAIKU2', 'LEA', 'NCED3'…"
      ]
     },
     "metadata": {},
     "output_type": "display_data"
    }
   ],
   "source": [
    "@interact\n",
    "def get_gene_list_for_triat(Gene_Name = sorted(dframe_GeneTrait_filtered['Gene Name'].unique())):\n",
    "    \n",
    "    df = dframe_GeneTrait_filtered.loc[dframe_GeneTrait_filtered['Gene Name'] == Gene_Name]\n",
    "    df = df[[\"Gene Accession\",\"Trait Accession\", \"Trait Name\", \"Evidence\", \"Network URL\"]]\n",
    "    df = df.reset_index(drop=True)\n",
    "    \n",
    "    s = \"View Network\"\n",
    "    df['Network URL'] = df['Network URL'].apply(lambda x: f'<a href=\"{x}\">{s}</a>')\n",
    "    \n",
    "    print(\"\\n Total number of related unique traits is: \" + str(len(df['Trait Accession'].unique())))\n",
    "    \n",
    "    return HTML(df.to_html(render_links=True, escape=False))"
   ]
  },
  {
   "cell_type": "code",
   "execution_count": null,
   "id": "f38e2fa3",
   "metadata": {},
   "outputs": [],
   "source": []
  }
 ],
 "metadata": {
  "kernelspec": {
   "display_name": "Python 3 (ipykernel)",
   "language": "python",
   "name": "python3"
  },
  "language_info": {
   "codemirror_mode": {
    "name": "ipython",
    "version": 3
   },
   "file_extension": ".py",
   "mimetype": "text/x-python",
   "name": "python",
   "nbconvert_exporter": "python",
   "pygments_lexer": "ipython3",
   "version": "3.9.7"
  }
 },
 "nbformat": 4,
 "nbformat_minor": 5
}
