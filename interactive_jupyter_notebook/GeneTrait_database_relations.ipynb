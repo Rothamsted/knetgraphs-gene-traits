{
 "cells": [
  {
   "cell_type": "markdown",
   "id": "a3ab9c00",
   "metadata": {},
   "source": [
    "# Get all Gene-Trait relations from KnetMiner database for a given taxonomy ID\n",
    "This Jupyter Notebook uses KnetMiner SPARQL endpoint to get for each species the genes and their related traits. The resulting tables can be downloaded as CSV files.\n",
    "\n",
    "### Instructions:\n",
    "Run each cell separately. There is an interactive interface for the third cell. After each choice, click on \"Run Interact\"."
   ]
  },
  {
   "cell_type": "markdown",
   "id": "95749c66",
   "metadata": {},
   "source": [
    "## Import the libraries used in this script"
   ]
  },
  {
   "cell_type": "code",
   "execution_count": null,
   "id": "4d65fc90",
   "metadata": {},
   "outputs": [],
   "source": [
    "from enrichment_analysis_functions import *\n",
    "\n",
    "# Import ipywidgets for interactive interface\n",
    "import ipywidgets as widgets\n",
    "from ipywidgets import interact, interact_manual"
   ]
  },
  {
   "cell_type": "markdown",
   "id": "e6bc14cc",
   "metadata": {},
   "source": [
    "## The database files can be obtained for the following species:"
   ]
  },
  {
   "cell_type": "code",
   "execution_count": 2,
   "id": "4720462e",
   "metadata": {},
   "outputs": [
    {
     "data": {
      "text/html": [
       "<div>\n",
       "<style scoped>\n",
       "    .dataframe tbody tr th:only-of-type {\n",
       "        vertical-align: middle;\n",
       "    }\n",
       "\n",
       "    .dataframe tbody tr th {\n",
       "        vertical-align: top;\n",
       "    }\n",
       "\n",
       "    .dataframe thead th {\n",
       "        text-align: right;\n",
       "    }\n",
       "</style>\n",
       "<table border=\"1\" class=\"dataframe\">\n",
       "  <thead>\n",
       "    <tr style=\"text-align: right;\">\n",
       "      <th></th>\n",
       "      <th>Tax IDs</th>\n",
       "      <th>Tax Names</th>\n",
       "    </tr>\n",
       "  </thead>\n",
       "  <tbody>\n",
       "    <tr>\n",
       "      <th>0</th>\n",
       "      <td>4565</td>\n",
       "      <td>Triticum aestivum (wheat)</td>\n",
       "    </tr>\n",
       "    <tr>\n",
       "      <th>1</th>\n",
       "      <td>3702</td>\n",
       "      <td>Arabidopsis thaliana (thale cress)</td>\n",
       "    </tr>\n",
       "    <tr>\n",
       "      <th>2</th>\n",
       "      <td>4530</td>\n",
       "      <td>Oryza sativa (rice)</td>\n",
       "    </tr>\n",
       "  </tbody>\n",
       "</table>\n",
       "</div>"
      ],
      "text/plain": [
       "  Tax IDs                           Tax Names\n",
       "0    4565           Triticum aestivum (wheat)\n",
       "1    3702  Arabidopsis thaliana (thale cress)\n",
       "2    4530                 Oryza sativa (rice)"
      ]
     },
     "execution_count": 2,
     "metadata": {},
     "output_type": "execute_result"
    }
   ],
   "source": [
    "df_taxID()[['Tax IDs', 'Tax Names']]"
   ]
  },
  {
   "cell_type": "markdown",
   "id": "831be19d",
   "metadata": {},
   "source": [
    "## Get the gene-trait database CSV file for the chosen species\n",
    "Please note that getting the download links for the CSV files take a couple of minutes to fetch the data from the database."
   ]
  },
  {
   "cell_type": "code",
   "execution_count": null,
   "id": "b23bd409",
   "metadata": {},
   "outputs": [],
   "source": [
    "# create dataframe for Tax IDs and their names\n",
    "dframe_taxID = df_taxID()\n",
    "\n",
    "# create global variable for the csv_link for one species\n",
    "csv_link = HTML()\n",
    "\n",
    "\n",
    "print(\"Do you want to choose all the species or only one?\")\n",
    "\n",
    "@interact_manual\n",
    "def all_one(All_One = ['All', 'One']):\n",
    "    \n",
    "    if All_One == 'All':\n",
    "        for x, row in dframe_taxID.iterrows():\n",
    "            taxID = row['Tax IDs'] # get taxID\n",
    "            database = row['Database URL'] # get database url\n",
    "            print(\"Loading results for \" + str(row['Tax Names']) + \"... Please wait.\")\n",
    "            get_database_csv(taxID, database) # get csv download link\n",
    "    \n",
    "    else:\n",
    "        print(\"\\nChoose the species name from the list below.\")\n",
    "        \n",
    "        @interact_manual\n",
    "        def show_taxid(Species = dframe_taxID['Tax Names']):\n",
    "            global csv_link\n",
    "            \n",
    "            # get taxID and database url from the table\n",
    "            taxID = dframe_taxID[dframe_taxID['Tax Names'] == Species]['Tax IDs'].item()\n",
    "            database = dframe_taxID[dframe_taxID['Tax Names'] == Species]['Database URL'].item()\n",
    "\n",
    "            print(\"Tax ID is: \" + taxID)\n",
    "            \n",
    "            # get csv download link\n",
    "            print(\"\\nLoading results ... Please wait.\")\n",
    "            csv_link = get_database_csv(taxID, database)\n"
   ]
  },
  {
   "cell_type": "markdown",
   "id": "56032842",
   "metadata": {},
   "source": [
    "### Note: If you are running this jupyter notebook using \"launch binder\" on GitHub and chose \"One\" species, run the cell below to get the link after running all the steps and getting the results."
   ]
  },
  {
   "cell_type": "code",
   "execution_count": null,
   "id": "5c8128ad",
   "metadata": {},
   "outputs": [],
   "source": [
    "csv_link"
   ]
  },
  {
   "cell_type": "code",
   "execution_count": null,
   "id": "6d5db98b",
   "metadata": {},
   "outputs": [],
   "source": []
  }
 ],
 "metadata": {
  "kernelspec": {
   "display_name": "Python 3.9.12",
   "language": "python",
   "name": "python3"
  },
  "language_info": {
   "codemirror_mode": {
    "name": "ipython",
    "version": 3
   },
   "file_extension": ".py",
   "mimetype": "text/x-python",
   "name": "python",
   "nbconvert_exporter": "python",
   "pygments_lexer": "ipython3",
   "version": "3.9.12"
  },
  "vscode": {
   "interpreter": {
    "hash": "b02c2cf1482603673c1bcf956135226e926d32ba11e9490db4747076fbd4905b"
   }
  }
 },
 "nbformat": 4,
 "nbformat_minor": 5
}
