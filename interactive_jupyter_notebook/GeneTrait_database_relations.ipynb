{
 "cells": [
  {
   "cell_type": "markdown",
   "id": "a3ab9c00",
   "metadata": {},
   "source": [
    "# Get all Gene-Trait relations from KnetMiner database for a given taxonomy ID"
   ]
  },
  {
   "cell_type": "markdown",
   "id": "8afcfc43",
   "metadata": {},
   "source": [
    "## Import the libraries used in this script"
   ]
  },
  {
   "cell_type": "code",
   "execution_count": 10,
   "id": "dd18fffc",
   "metadata": {},
   "outputs": [],
   "source": [
    "from enrichment_analysis_functions import *\n",
    "\n",
    "# Import ipywidgets for interactive interface\n",
    "import ipywidgets as widgets\n",
    "from ipywidgets import interact, interact_manual"
   ]
  },
  {
   "cell_type": "markdown",
   "id": "92dabd81",
   "metadata": {},
   "source": [
    "## The database files can be obtained for the following species:"
   ]
  },
  {
   "cell_type": "code",
   "execution_count": 12,
   "id": "b1404ca4",
   "metadata": {},
   "outputs": [
    {
     "data": {
      "text/html": [
       "<div>\n",
       "<style scoped>\n",
       "    .dataframe tbody tr th:only-of-type {\n",
       "        vertical-align: middle;\n",
       "    }\n",
       "\n",
       "    .dataframe tbody tr th {\n",
       "        vertical-align: top;\n",
       "    }\n",
       "\n",
       "    .dataframe thead th {\n",
       "        text-align: right;\n",
       "    }\n",
       "</style>\n",
       "<table border=\"1\" class=\"dataframe\">\n",
       "  <thead>\n",
       "    <tr style=\"text-align: right;\">\n",
       "      <th></th>\n",
       "      <th>Tax IDs</th>\n",
       "      <th>Tax Names</th>\n",
       "    </tr>\n",
       "  </thead>\n",
       "  <tbody>\n",
       "    <tr>\n",
       "      <th>0</th>\n",
       "      <td>4565</td>\n",
       "      <td>Triticum aestivum (wheat)</td>\n",
       "    </tr>\n",
       "    <tr>\n",
       "      <th>1</th>\n",
       "      <td>3702</td>\n",
       "      <td>Arabidopsis thaliana (thale cress)</td>\n",
       "    </tr>\n",
       "    <tr>\n",
       "      <th>2</th>\n",
       "      <td>4530</td>\n",
       "      <td>Oryza sativa (rice)</td>\n",
       "    </tr>\n",
       "  </tbody>\n",
       "</table>\n",
       "</div>"
      ],
      "text/plain": [
       "  Tax IDs                           Tax Names\n",
       "0    4565           Triticum aestivum (wheat)\n",
       "1    3702  Arabidopsis thaliana (thale cress)\n",
       "2    4530                 Oryza sativa (rice)"
      ]
     },
     "execution_count": 12,
     "metadata": {},
     "output_type": "execute_result"
    }
   ],
   "source": [
    "df_taxID()[['Tax IDs', 'Tax Names']]"
   ]
  },
  {
   "cell_type": "markdown",
   "id": "831be19d",
   "metadata": {},
   "source": [
    "## Get the gene-trait database CSV file for the chosen tax ID\n",
    "Please note that getting the download links for the CSV files take a couple of minutes to fetch the data from the database."
   ]
  },
  {
   "cell_type": "code",
   "execution_count": 14,
   "id": "ed6d5dbb",
   "metadata": {},
   "outputs": [
    {
     "name": "stdout",
     "output_type": "stream",
     "text": [
      "Do want to choose all the species or only one?\n"
     ]
    },
    {
     "data": {
      "application/vnd.jupyter.widget-view+json": {
       "model_id": "acd23824f13a472dafa6bafb44a6a571",
       "version_major": 2,
       "version_minor": 0
      },
      "text/plain": [
       "interactive(children=(Dropdown(description='All_One', options=('All', 'One'), value='All'), Button(description…"
      ]
     },
     "metadata": {},
     "output_type": "display_data"
    }
   ],
   "source": [
    "# create dataframe for Tax IDs and their names\n",
    "dframe_taxID = df_taxID()\n",
    "\n",
    "print(\"Do want to choose all the species or only one?\")\n",
    "\n",
    "@interact_manual\n",
    "def all_one(All_One = ['All', 'One']):\n",
    "    \n",
    "    if All_One == 'All':\n",
    "        for x, row in dframe_taxID.iterrows():\n",
    "            taxID = row['Tax IDs'] # get taxID\n",
    "            database = row['Database URL'] # get database url\n",
    "            get_database_csv(taxID, database) # get csv download link\n",
    "    \n",
    "    else:\n",
    "        print(\"\\nChoose the species name from the list below.\")\n",
    "        \n",
    "        @interact_manual\n",
    "        def show_taxid(Species = dframe_taxID['Tax Names']):\n",
    "            \n",
    "            # get taxID and database url from the table\n",
    "            taxID = dframe_taxID[dframe_taxID['Tax Names'] == Species]['Tax IDs'].item()\n",
    "            database = dframe_taxID[dframe_taxID['Tax Names'] == Species]['Database URL'].item()\n",
    "\n",
    "            print(\"Tax ID is: \" + taxID)\n",
    "            \n",
    "            # get csv download link\n",
    "            get_database_csv(taxID, database)"
   ]
  },
  {
   "cell_type": "code",
   "execution_count": null,
   "id": "4134f1ff",
   "metadata": {},
   "outputs": [],
   "source": []
  }
 ],
 "metadata": {
  "kernelspec": {
   "display_name": "Python 3 (ipykernel)",
   "language": "python",
   "name": "python3"
  },
  "language_info": {
   "codemirror_mode": {
    "name": "ipython",
    "version": 3
   },
   "file_extension": ".py",
   "mimetype": "text/x-python",
   "name": "python",
   "nbconvert_exporter": "python",
   "pygments_lexer": "ipython3",
   "version": "3.9.7"
  }
 },
 "nbformat": 4,
 "nbformat_minor": 5
}
